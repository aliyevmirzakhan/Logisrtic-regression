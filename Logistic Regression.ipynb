{
 "cells": [
  {
   "cell_type": "code",
   "execution_count": 8,
   "metadata": {},
   "outputs": [],
   "source": [
    "import numpy as np\n",
    "import pandas as pd\n",
    "import math as mt\n",
    "Data = pd.read_csv(\"C:\\\\Users\\\\Mirzakhan Aliyev\\\\Desktop\\\\Logistic Regression.csv\")\n",
    "data = Data.values\n",
    "\n",
    "\n",
    "\n",
    "\n",
    "\n",
    "def MLE (data, p_order, beta_vector):\n",
    "    function = 0\n",
    "    Z = []\n",
    "    xlist = []\n",
    "    ylist = []\n",
    "    N, ncol = data.shape\n",
    "    for i in range(N):\n",
    "        xlist.append(data[i][p_order])\n",
    "        ylist.append(data[i][-1])\n",
    "    for i in range(N):\n",
    "        xi = data[i][:(p_order + 1)]\n",
    "        Z.append(beta_vector * np.array(xi))\n",
    "                     \n",
    "    FP = (np.array(xlist).T)*(np.array(ylist))\n",
    "    \n",
    "    for i in range(N):\n",
    "        function = function + ((FP.T)[i] - data[i][p_order]/(1-mt.exp(sum(Z[i]))))\n",
    "        \n",
    "    return function"
   ]
  },
  {
   "cell_type": "code",
   "execution_count": 6,
   "metadata": {},
   "outputs": [],
   "source": [
    "def determine_nparameters(Data):\n",
    "    _, ncolumns = Data.values.shape\n",
    "    nparameters = ncolumns - 1\n",
    "    \n",
    "    return nparameters"
   ]
  },
  {
   "cell_type": "code",
   "execution_count": 4,
   "metadata": {},
   "outputs": [],
   "source": [
    "def logistic_regression(data, Data):\n",
    "    nparameter = determine_nparameters(Data)\n",
    "    \n",
    "    beta_list = []\n",
    "    #Initialising the Guess Values of Parameters\n",
    "    for i in range(nparameter):\n",
    "        beta_list.append(0)\n",
    "    beta_vector = np.array(beta_list)\n",
    "    #-------------------------------------------\n",
    "    \n",
    "    #Parameter Dictionary\n",
    "    Parameters = {}\n",
    "    keys = []\n",
    "    for n in range(nparameter):\n",
    "        keys.append(\"parameter{}\".format(n))\n",
    "        Parameters[keys[n]]=beta_vector[n]\n",
    "    #--------------------------------------------\n",
    "    \n",
    "    h = 0.00000001\n",
    "    for p in range(nparameter):\n",
    "        f= MLE(data, p, beta_vector[:(p+1)])\n",
    "        beta_vector_h = beta_vector\n",
    "        beta_vector_h[p] = beta_vector[p] + h\n",
    "        \n",
    "        f_d = (MLE(data, p, (beta_vector_h[:(p+1)])) - MLE(data, p, beta_vector[:(p+1)]))/h\n",
    "        \n",
    "        beta_vector[p] = beta_vector[p] - f/fd\n",
    "    \n",
    "    return beta_vector            "
   ]
  },
  {
   "cell_type": "code",
   "execution_count": 9,
   "metadata": {},
   "outputs": [
    {
     "name": "stderr",
     "output_type": "stream",
     "text": [
      "C:\\Users\\Mirzakhan Aliyev\\Anaconda3\\lib\\site-packages\\ipykernel_launcher.py:27: RuntimeWarning: divide by zero encountered in double_scalars\n",
      "C:\\Users\\Mirzakhan Aliyev\\Anaconda3\\lib\\site-packages\\ipykernel_launcher.py:25: RuntimeWarning: invalid value encountered in double_scalars\n"
     ]
    },
    {
     "ename": "NameError",
     "evalue": "name 'fd' is not defined",
     "output_type": "error",
     "traceback": [
      "\u001b[1;31m---------------------------------------------------------------------------\u001b[0m",
      "\u001b[1;31mNameError\u001b[0m                                 Traceback (most recent call last)",
      "\u001b[1;32m<ipython-input-9-c320fd44eb8a>\u001b[0m in \u001b[0;36m<module>\u001b[1;34m\u001b[0m\n\u001b[1;32m----> 1\u001b[1;33m \u001b[0mlogistic_regression\u001b[0m\u001b[1;33m(\u001b[0m\u001b[0mdata\u001b[0m\u001b[1;33m,\u001b[0m \u001b[0mData\u001b[0m\u001b[1;33m)\u001b[0m\u001b[1;33m\u001b[0m\u001b[1;33m\u001b[0m\u001b[0m\n\u001b[0m",
      "\u001b[1;32m<ipython-input-4-b2789415bbb9>\u001b[0m in \u001b[0;36mlogistic_regression\u001b[1;34m(data, Data)\u001b[0m\n\u001b[0;32m     25\u001b[0m         \u001b[0mf_d\u001b[0m \u001b[1;33m=\u001b[0m \u001b[1;33m(\u001b[0m\u001b[0mMLE\u001b[0m\u001b[1;33m(\u001b[0m\u001b[0mdata\u001b[0m\u001b[1;33m,\u001b[0m \u001b[0mp\u001b[0m\u001b[1;33m,\u001b[0m \u001b[1;33m(\u001b[0m\u001b[0mbeta_vector_h\u001b[0m\u001b[1;33m[\u001b[0m\u001b[1;33m:\u001b[0m\u001b[1;33m(\u001b[0m\u001b[0mp\u001b[0m\u001b[1;33m+\u001b[0m\u001b[1;36m1\u001b[0m\u001b[1;33m)\u001b[0m\u001b[1;33m]\u001b[0m\u001b[1;33m)\u001b[0m\u001b[1;33m)\u001b[0m \u001b[1;33m-\u001b[0m \u001b[0mMLE\u001b[0m\u001b[1;33m(\u001b[0m\u001b[0mdata\u001b[0m\u001b[1;33m,\u001b[0m \u001b[0mp\u001b[0m\u001b[1;33m,\u001b[0m \u001b[0mbeta_vector\u001b[0m\u001b[1;33m[\u001b[0m\u001b[1;33m:\u001b[0m\u001b[1;33m(\u001b[0m\u001b[0mp\u001b[0m\u001b[1;33m+\u001b[0m\u001b[1;36m1\u001b[0m\u001b[1;33m)\u001b[0m\u001b[1;33m]\u001b[0m\u001b[1;33m)\u001b[0m\u001b[1;33m)\u001b[0m\u001b[1;33m/\u001b[0m\u001b[0mh\u001b[0m\u001b[1;33m\u001b[0m\u001b[1;33m\u001b[0m\u001b[0m\n\u001b[0;32m     26\u001b[0m \u001b[1;33m\u001b[0m\u001b[0m\n\u001b[1;32m---> 27\u001b[1;33m         \u001b[0mbeta_vector\u001b[0m\u001b[1;33m[\u001b[0m\u001b[0mp\u001b[0m\u001b[1;33m]\u001b[0m \u001b[1;33m=\u001b[0m \u001b[0mbeta_vector\u001b[0m\u001b[1;33m[\u001b[0m\u001b[0mp\u001b[0m\u001b[1;33m]\u001b[0m \u001b[1;33m-\u001b[0m \u001b[0mf\u001b[0m\u001b[1;33m/\u001b[0m\u001b[0mfd\u001b[0m\u001b[1;33m\u001b[0m\u001b[1;33m\u001b[0m\u001b[0m\n\u001b[0m\u001b[0;32m     28\u001b[0m \u001b[1;33m\u001b[0m\u001b[0m\n\u001b[0;32m     29\u001b[0m     \u001b[1;32mreturn\u001b[0m \u001b[0mbeta_vector\u001b[0m\u001b[1;33m\u001b[0m\u001b[1;33m\u001b[0m\u001b[0m\n",
      "\u001b[1;31mNameError\u001b[0m: name 'fd' is not defined"
     ]
    }
   ],
   "source": [
    "logistic_regression(data, Data)"
   ]
  },
  {
   "cell_type": "code",
   "execution_count": null,
   "metadata": {},
   "outputs": [],
   "source": []
  }
 ],
 "metadata": {
  "kernelspec": {
   "display_name": "Python 3",
   "language": "python",
   "name": "python3"
  },
  "language_info": {
   "codemirror_mode": {
    "name": "ipython",
    "version": 3
   },
   "file_extension": ".py",
   "mimetype": "text/x-python",
   "name": "python",
   "nbconvert_exporter": "python",
   "pygments_lexer": "ipython3",
   "version": "3.7.1"
  }
 },
 "nbformat": 4,
 "nbformat_minor": 2
}
